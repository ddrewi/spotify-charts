{
 "cells": [
  {
   "cell_type": "markdown",
   "metadata": {},
   "source": [
    "### Goal: Combine daily Spotify CSV's into master CSV"
   ]
  },
  {
   "cell_type": "code",
   "execution_count": 106,
   "metadata": {},
   "outputs": [],
   "source": [
    "import csv\n",
    "\n",
    "# reads the top ten most-streamed songs from the chart\n",
    "def read_rows(chart_name):\n",
    "    chart_rows = []\n",
    "    date = chart_name[18:28]\n",
    "    with open(\"charts/\" + chart_name) as chart:\n",
    "        reader = csv.reader(chart)\n",
    "        next(reader)\n",
    "        for row in reader:\n",
    "            chart_rows.append((row[3], int(row[8]), date))\n",
    "    chart_rows = chart_rows[0:10]\n",
    "    return chart_rows\n",
    "\n",
    "# write rows from the Spotify charts into a master chart\n",
    "def write_rows(rows):\n",
    "    with open(\"total.csv\", mode=\"a\") as chart:\n",
    "        writer = csv.writer(chart)\n",
    "        for row in rows:\n",
    "            writer.writerow(row)\n"
   ]
  },
  {
   "cell_type": "code",
   "execution_count": 107,
   "metadata": {},
   "outputs": [],
   "source": [
    "import os\n",
    "\n",
    "# consolidate all the daily charts we have so far into a master chart\n",
    "charts = os.listdir(\"charts\")\n",
    "for i in range(1, len(charts)):\n",
    "    chart_name = charts[i]\n",
    "    chart_rows = read_rows(chart_name)\n",
    "    write_rows(chart_rows)\n"
   ]
  },
  {
   "cell_type": "code",
   "execution_count": 108,
   "metadata": {},
   "outputs": [
    {
     "name": "stdout",
     "output_type": "stream",
     "text": [
      "2025-02-01\n",
      "2025-02-03\n",
      "2025-02-02\n",
      "2025-02-06\n",
      "2025-02-07\n",
      "2025-02-05\n",
      "2025-02-11\n",
      "2025-02-10\n",
      "2025-02-04\n",
      "2025-02-09\n",
      "2025-02-08\n"
     ]
    }
   ],
   "source": [
    "import os\n",
    "\n",
    "# get list of all charts we've stored\n",
    "charts = os.listdir(\"charts\")\n",
    "for i in range(1, len(charts)):\n",
    "    print(charts[i][18:28])\n"
   ]
  },
  {
   "cell_type": "code",
   "execution_count": null,
   "metadata": {},
   "outputs": [],
   "source": []
  }
 ],
 "metadata": {
  "kernelspec": {
   "display_name": "myenv",
   "language": "python",
   "name": "python3"
  },
  "language_info": {
   "codemirror_mode": {
    "name": "ipython",
    "version": 3
   },
   "file_extension": ".py",
   "mimetype": "text/x-python",
   "name": "python",
   "nbconvert_exporter": "python",
   "pygments_lexer": "ipython3",
   "version": "3.12.2"
  }
 },
 "nbformat": 4,
 "nbformat_minor": 2
}
